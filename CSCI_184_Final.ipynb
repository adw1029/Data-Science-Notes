{
  "nbformat": 4,
  "nbformat_minor": 0,
  "metadata": {
    "colab": {
      "provenance": [],
      "authorship_tag": "ABX9TyNecAA2RCFl6aRYg49R4m+9",
      "include_colab_link": true
    },
    "kernelspec": {
      "name": "python3",
      "display_name": "Python 3"
    },
    "language_info": {
      "name": "python"
    }
  },
  "cells": [
    {
      "cell_type": "markdown",
      "metadata": {
        "id": "view-in-github",
        "colab_type": "text"
      },
      "source": [
        "<a href=\"https://colab.research.google.com/github/adw1029/Data-Science-Notes/blob/master/CSCI_184_Final.ipynb\" target=\"_parent\"><img src=\"https://colab.research.google.com/assets/colab-badge.svg\" alt=\"Open In Colab\"/></a>"
      ]
    },
    {
      "cell_type": "code",
      "execution_count": null,
      "metadata": {
        "id": "oH9pmmc83y-d"
      },
      "outputs": [],
      "source": [
        "import numpy as np\n",
        "import pandas as pd\n",
        "from google.colab import files\n"
      ]
    },
    {
      "cell_type": "code",
      "source": [
        "uploaded = files.upload()\n"
      ],
      "metadata": {
        "id": "mnSU-xSbWolG",
        "colab": {
          "base_uri": "https://localhost:8080/",
          "height": 74
        },
        "outputId": "3dea6245-f0f2-4f6c-fc07-34fc3b7e024e"
      },
      "execution_count": null,
      "outputs": [
        {
          "output_type": "display_data",
          "data": {
            "text/plain": [
              "<IPython.core.display.HTML object>"
            ],
            "text/html": [
              "\n",
              "     <input type=\"file\" id=\"files-af983764-32ed-4788-96dd-6bbc8004de79\" name=\"files[]\" multiple disabled\n",
              "        style=\"border:none\" />\n",
              "     <output id=\"result-af983764-32ed-4788-96dd-6bbc8004de79\">\n",
              "      Upload widget is only available when the cell has been executed in the\n",
              "      current browser session. Please rerun this cell to enable.\n",
              "      </output>\n",
              "      <script>// Copyright 2017 Google LLC\n",
              "//\n",
              "// Licensed under the Apache License, Version 2.0 (the \"License\");\n",
              "// you may not use this file except in compliance with the License.\n",
              "// You may obtain a copy of the License at\n",
              "//\n",
              "//      http://www.apache.org/licenses/LICENSE-2.0\n",
              "//\n",
              "// Unless required by applicable law or agreed to in writing, software\n",
              "// distributed under the License is distributed on an \"AS IS\" BASIS,\n",
              "// WITHOUT WARRANTIES OR CONDITIONS OF ANY KIND, either express or implied.\n",
              "// See the License for the specific language governing permissions and\n",
              "// limitations under the License.\n",
              "\n",
              "/**\n",
              " * @fileoverview Helpers for google.colab Python module.\n",
              " */\n",
              "(function(scope) {\n",
              "function span(text, styleAttributes = {}) {\n",
              "  const element = document.createElement('span');\n",
              "  element.textContent = text;\n",
              "  for (const key of Object.keys(styleAttributes)) {\n",
              "    element.style[key] = styleAttributes[key];\n",
              "  }\n",
              "  return element;\n",
              "}\n",
              "\n",
              "// Max number of bytes which will be uploaded at a time.\n",
              "const MAX_PAYLOAD_SIZE = 100 * 1024;\n",
              "\n",
              "function _uploadFiles(inputId, outputId) {\n",
              "  const steps = uploadFilesStep(inputId, outputId);\n",
              "  const outputElement = document.getElementById(outputId);\n",
              "  // Cache steps on the outputElement to make it available for the next call\n",
              "  // to uploadFilesContinue from Python.\n",
              "  outputElement.steps = steps;\n",
              "\n",
              "  return _uploadFilesContinue(outputId);\n",
              "}\n",
              "\n",
              "// This is roughly an async generator (not supported in the browser yet),\n",
              "// where there are multiple asynchronous steps and the Python side is going\n",
              "// to poll for completion of each step.\n",
              "// This uses a Promise to block the python side on completion of each step,\n",
              "// then passes the result of the previous step as the input to the next step.\n",
              "function _uploadFilesContinue(outputId) {\n",
              "  const outputElement = document.getElementById(outputId);\n",
              "  const steps = outputElement.steps;\n",
              "\n",
              "  const next = steps.next(outputElement.lastPromiseValue);\n",
              "  return Promise.resolve(next.value.promise).then((value) => {\n",
              "    // Cache the last promise value to make it available to the next\n",
              "    // step of the generator.\n",
              "    outputElement.lastPromiseValue = value;\n",
              "    return next.value.response;\n",
              "  });\n",
              "}\n",
              "\n",
              "/**\n",
              " * Generator function which is called between each async step of the upload\n",
              " * process.\n",
              " * @param {string} inputId Element ID of the input file picker element.\n",
              " * @param {string} outputId Element ID of the output display.\n",
              " * @return {!Iterable<!Object>} Iterable of next steps.\n",
              " */\n",
              "function* uploadFilesStep(inputId, outputId) {\n",
              "  const inputElement = document.getElementById(inputId);\n",
              "  inputElement.disabled = false;\n",
              "\n",
              "  const outputElement = document.getElementById(outputId);\n",
              "  outputElement.innerHTML = '';\n",
              "\n",
              "  const pickedPromise = new Promise((resolve) => {\n",
              "    inputElement.addEventListener('change', (e) => {\n",
              "      resolve(e.target.files);\n",
              "    });\n",
              "  });\n",
              "\n",
              "  const cancel = document.createElement('button');\n",
              "  inputElement.parentElement.appendChild(cancel);\n",
              "  cancel.textContent = 'Cancel upload';\n",
              "  const cancelPromise = new Promise((resolve) => {\n",
              "    cancel.onclick = () => {\n",
              "      resolve(null);\n",
              "    };\n",
              "  });\n",
              "\n",
              "  // Wait for the user to pick the files.\n",
              "  const files = yield {\n",
              "    promise: Promise.race([pickedPromise, cancelPromise]),\n",
              "    response: {\n",
              "      action: 'starting',\n",
              "    }\n",
              "  };\n",
              "\n",
              "  cancel.remove();\n",
              "\n",
              "  // Disable the input element since further picks are not allowed.\n",
              "  inputElement.disabled = true;\n",
              "\n",
              "  if (!files) {\n",
              "    return {\n",
              "      response: {\n",
              "        action: 'complete',\n",
              "      }\n",
              "    };\n",
              "  }\n",
              "\n",
              "  for (const file of files) {\n",
              "    const li = document.createElement('li');\n",
              "    li.append(span(file.name, {fontWeight: 'bold'}));\n",
              "    li.append(span(\n",
              "        `(${file.type || 'n/a'}) - ${file.size} bytes, ` +\n",
              "        `last modified: ${\n",
              "            file.lastModifiedDate ? file.lastModifiedDate.toLocaleDateString() :\n",
              "                                    'n/a'} - `));\n",
              "    const percent = span('0% done');\n",
              "    li.appendChild(percent);\n",
              "\n",
              "    outputElement.appendChild(li);\n",
              "\n",
              "    const fileDataPromise = new Promise((resolve) => {\n",
              "      const reader = new FileReader();\n",
              "      reader.onload = (e) => {\n",
              "        resolve(e.target.result);\n",
              "      };\n",
              "      reader.readAsArrayBuffer(file);\n",
              "    });\n",
              "    // Wait for the data to be ready.\n",
              "    let fileData = yield {\n",
              "      promise: fileDataPromise,\n",
              "      response: {\n",
              "        action: 'continue',\n",
              "      }\n",
              "    };\n",
              "\n",
              "    // Use a chunked sending to avoid message size limits. See b/62115660.\n",
              "    let position = 0;\n",
              "    do {\n",
              "      const length = Math.min(fileData.byteLength - position, MAX_PAYLOAD_SIZE);\n",
              "      const chunk = new Uint8Array(fileData, position, length);\n",
              "      position += length;\n",
              "\n",
              "      const base64 = btoa(String.fromCharCode.apply(null, chunk));\n",
              "      yield {\n",
              "        response: {\n",
              "          action: 'append',\n",
              "          file: file.name,\n",
              "          data: base64,\n",
              "        },\n",
              "      };\n",
              "\n",
              "      let percentDone = fileData.byteLength === 0 ?\n",
              "          100 :\n",
              "          Math.round((position / fileData.byteLength) * 100);\n",
              "      percent.textContent = `${percentDone}% done`;\n",
              "\n",
              "    } while (position < fileData.byteLength);\n",
              "  }\n",
              "\n",
              "  // All done.\n",
              "  yield {\n",
              "    response: {\n",
              "      action: 'complete',\n",
              "    }\n",
              "  };\n",
              "}\n",
              "\n",
              "scope.google = scope.google || {};\n",
              "scope.google.colab = scope.google.colab || {};\n",
              "scope.google.colab._files = {\n",
              "  _uploadFiles,\n",
              "  _uploadFilesContinue,\n",
              "};\n",
              "})(self);\n",
              "</script> "
            ]
          },
          "metadata": {}
        },
        {
          "output_type": "stream",
          "name": "stdout",
          "text": [
            "Saving water_potability.csv to water_potability.csv\n"
          ]
        }
      ]
    },
    {
      "cell_type": "code",
      "source": [
        "df = pd.read_csv('water_potability.csv');\n",
        "df.head()"
      ],
      "metadata": {
        "id": "zrZERWAaV1bc",
        "colab": {
          "base_uri": "https://localhost:8080/",
          "height": 206
        },
        "outputId": "b2e783b6-8d79-462d-c119-7afe523a29f0"
      },
      "execution_count": null,
      "outputs": [
        {
          "output_type": "execute_result",
          "data": {
            "text/plain": [
              "         ph    Hardness        Solids  Chloramines     Sulfate  Conductivity  \\\n",
              "0       NaN  204.890455  20791.318981     7.300212  368.516441    564.308654   \n",
              "1  3.716080  129.422921  18630.057858     6.635246         NaN    592.885359   \n",
              "2  8.099124  224.236259  19909.541732     9.275884         NaN    418.606213   \n",
              "3  8.316766  214.373394  22018.417441     8.059332  356.886136    363.266516   \n",
              "4  9.092223  181.101509  17978.986339     6.546600  310.135738    398.410813   \n",
              "\n",
              "   Organic_carbon  Trihalomethanes  Turbidity  Potability  \n",
              "0       10.379783        86.990970   2.963135           0  \n",
              "1       15.180013        56.329076   4.500656           0  \n",
              "2       16.868637        66.420093   3.055934           0  \n",
              "3       18.436524       100.341674   4.628771           0  \n",
              "4       11.558279        31.997993   4.075075           0  "
            ],
            "text/html": [
              "\n",
              "  <div id=\"df-3c7fca52-11a3-41f5-9d60-10de4e6c9087\">\n",
              "    <div class=\"colab-df-container\">\n",
              "      <div>\n",
              "<style scoped>\n",
              "    .dataframe tbody tr th:only-of-type {\n",
              "        vertical-align: middle;\n",
              "    }\n",
              "\n",
              "    .dataframe tbody tr th {\n",
              "        vertical-align: top;\n",
              "    }\n",
              "\n",
              "    .dataframe thead th {\n",
              "        text-align: right;\n",
              "    }\n",
              "</style>\n",
              "<table border=\"1\" class=\"dataframe\">\n",
              "  <thead>\n",
              "    <tr style=\"text-align: right;\">\n",
              "      <th></th>\n",
              "      <th>ph</th>\n",
              "      <th>Hardness</th>\n",
              "      <th>Solids</th>\n",
              "      <th>Chloramines</th>\n",
              "      <th>Sulfate</th>\n",
              "      <th>Conductivity</th>\n",
              "      <th>Organic_carbon</th>\n",
              "      <th>Trihalomethanes</th>\n",
              "      <th>Turbidity</th>\n",
              "      <th>Potability</th>\n",
              "    </tr>\n",
              "  </thead>\n",
              "  <tbody>\n",
              "    <tr>\n",
              "      <th>0</th>\n",
              "      <td>NaN</td>\n",
              "      <td>204.890455</td>\n",
              "      <td>20791.318981</td>\n",
              "      <td>7.300212</td>\n",
              "      <td>368.516441</td>\n",
              "      <td>564.308654</td>\n",
              "      <td>10.379783</td>\n",
              "      <td>86.990970</td>\n",
              "      <td>2.963135</td>\n",
              "      <td>0</td>\n",
              "    </tr>\n",
              "    <tr>\n",
              "      <th>1</th>\n",
              "      <td>3.716080</td>\n",
              "      <td>129.422921</td>\n",
              "      <td>18630.057858</td>\n",
              "      <td>6.635246</td>\n",
              "      <td>NaN</td>\n",
              "      <td>592.885359</td>\n",
              "      <td>15.180013</td>\n",
              "      <td>56.329076</td>\n",
              "      <td>4.500656</td>\n",
              "      <td>0</td>\n",
              "    </tr>\n",
              "    <tr>\n",
              "      <th>2</th>\n",
              "      <td>8.099124</td>\n",
              "      <td>224.236259</td>\n",
              "      <td>19909.541732</td>\n",
              "      <td>9.275884</td>\n",
              "      <td>NaN</td>\n",
              "      <td>418.606213</td>\n",
              "      <td>16.868637</td>\n",
              "      <td>66.420093</td>\n",
              "      <td>3.055934</td>\n",
              "      <td>0</td>\n",
              "    </tr>\n",
              "    <tr>\n",
              "      <th>3</th>\n",
              "      <td>8.316766</td>\n",
              "      <td>214.373394</td>\n",
              "      <td>22018.417441</td>\n",
              "      <td>8.059332</td>\n",
              "      <td>356.886136</td>\n",
              "      <td>363.266516</td>\n",
              "      <td>18.436524</td>\n",
              "      <td>100.341674</td>\n",
              "      <td>4.628771</td>\n",
              "      <td>0</td>\n",
              "    </tr>\n",
              "    <tr>\n",
              "      <th>4</th>\n",
              "      <td>9.092223</td>\n",
              "      <td>181.101509</td>\n",
              "      <td>17978.986339</td>\n",
              "      <td>6.546600</td>\n",
              "      <td>310.135738</td>\n",
              "      <td>398.410813</td>\n",
              "      <td>11.558279</td>\n",
              "      <td>31.997993</td>\n",
              "      <td>4.075075</td>\n",
              "      <td>0</td>\n",
              "    </tr>\n",
              "  </tbody>\n",
              "</table>\n",
              "</div>\n",
              "      <button class=\"colab-df-convert\" onclick=\"convertToInteractive('df-3c7fca52-11a3-41f5-9d60-10de4e6c9087')\"\n",
              "              title=\"Convert this dataframe to an interactive table.\"\n",
              "              style=\"display:none;\">\n",
              "        \n",
              "  <svg xmlns=\"http://www.w3.org/2000/svg\" height=\"24px\"viewBox=\"0 0 24 24\"\n",
              "       width=\"24px\">\n",
              "    <path d=\"M0 0h24v24H0V0z\" fill=\"none\"/>\n",
              "    <path d=\"M18.56 5.44l.94 2.06.94-2.06 2.06-.94-2.06-.94-.94-2.06-.94 2.06-2.06.94zm-11 1L8.5 8.5l.94-2.06 2.06-.94-2.06-.94L8.5 2.5l-.94 2.06-2.06.94zm10 10l.94 2.06.94-2.06 2.06-.94-2.06-.94-.94-2.06-.94 2.06-2.06.94z\"/><path d=\"M17.41 7.96l-1.37-1.37c-.4-.4-.92-.59-1.43-.59-.52 0-1.04.2-1.43.59L10.3 9.45l-7.72 7.72c-.78.78-.78 2.05 0 2.83L4 21.41c.39.39.9.59 1.41.59.51 0 1.02-.2 1.41-.59l7.78-7.78 2.81-2.81c.8-.78.8-2.07 0-2.86zM5.41 20L4 18.59l7.72-7.72 1.47 1.35L5.41 20z\"/>\n",
              "  </svg>\n",
              "      </button>\n",
              "      \n",
              "  <style>\n",
              "    .colab-df-container {\n",
              "      display:flex;\n",
              "      flex-wrap:wrap;\n",
              "      gap: 12px;\n",
              "    }\n",
              "\n",
              "    .colab-df-convert {\n",
              "      background-color: #E8F0FE;\n",
              "      border: none;\n",
              "      border-radius: 50%;\n",
              "      cursor: pointer;\n",
              "      display: none;\n",
              "      fill: #1967D2;\n",
              "      height: 32px;\n",
              "      padding: 0 0 0 0;\n",
              "      width: 32px;\n",
              "    }\n",
              "\n",
              "    .colab-df-convert:hover {\n",
              "      background-color: #E2EBFA;\n",
              "      box-shadow: 0px 1px 2px rgba(60, 64, 67, 0.3), 0px 1px 3px 1px rgba(60, 64, 67, 0.15);\n",
              "      fill: #174EA6;\n",
              "    }\n",
              "\n",
              "    [theme=dark] .colab-df-convert {\n",
              "      background-color: #3B4455;\n",
              "      fill: #D2E3FC;\n",
              "    }\n",
              "\n",
              "    [theme=dark] .colab-df-convert:hover {\n",
              "      background-color: #434B5C;\n",
              "      box-shadow: 0px 1px 3px 1px rgba(0, 0, 0, 0.15);\n",
              "      filter: drop-shadow(0px 1px 2px rgba(0, 0, 0, 0.3));\n",
              "      fill: #FFFFFF;\n",
              "    }\n",
              "  </style>\n",
              "\n",
              "      <script>\n",
              "        const buttonEl =\n",
              "          document.querySelector('#df-3c7fca52-11a3-41f5-9d60-10de4e6c9087 button.colab-df-convert');\n",
              "        buttonEl.style.display =\n",
              "          google.colab.kernel.accessAllowed ? 'block' : 'none';\n",
              "\n",
              "        async function convertToInteractive(key) {\n",
              "          const element = document.querySelector('#df-3c7fca52-11a3-41f5-9d60-10de4e6c9087');\n",
              "          const dataTable =\n",
              "            await google.colab.kernel.invokeFunction('convertToInteractive',\n",
              "                                                     [key], {});\n",
              "          if (!dataTable) return;\n",
              "\n",
              "          const docLinkHtml = 'Like what you see? Visit the ' +\n",
              "            '<a target=\"_blank\" href=https://colab.research.google.com/notebooks/data_table.ipynb>data table notebook</a>'\n",
              "            + ' to learn more about interactive tables.';\n",
              "          element.innerHTML = '';\n",
              "          dataTable['output_type'] = 'display_data';\n",
              "          await google.colab.output.renderOutput(dataTable, element);\n",
              "          const docLink = document.createElement('div');\n",
              "          docLink.innerHTML = docLinkHtml;\n",
              "          element.appendChild(docLink);\n",
              "        }\n",
              "      </script>\n",
              "    </div>\n",
              "  </div>\n",
              "  "
            ]
          },
          "metadata": {},
          "execution_count": 4
        }
      ]
    },
    {
      "cell_type": "code",
      "source": [
        "print('Shape of the Dataset =', df.shape)\n"
      ],
      "metadata": {
        "id": "MiE-zm5AV7O0",
        "colab": {
          "base_uri": "https://localhost:8080/"
        },
        "outputId": "9f16dcc0-a8e0-43e9-f362-df235b0160c1"
      },
      "execution_count": null,
      "outputs": [
        {
          "output_type": "stream",
          "name": "stdout",
          "text": [
            "Shape of the Dataset = (3276, 10)\n"
          ]
        }
      ]
    },
    {
      "cell_type": "code",
      "source": [
        "for column in df.columns:\n",
        "    print(f\"Column '{column}' has data type: {df[column].dtype}\")"
      ],
      "metadata": {
        "id": "erWJvZ1JW9I6",
        "colab": {
          "base_uri": "https://localhost:8080/"
        },
        "outputId": "8c154f18-5f2a-48f6-d028-3dd41417648f"
      },
      "execution_count": null,
      "outputs": [
        {
          "output_type": "stream",
          "name": "stdout",
          "text": [
            "Column 'ph' has data type: float64\n",
            "Column 'Hardness' has data type: float64\n",
            "Column 'Solids' has data type: float64\n",
            "Column 'Chloramines' has data type: float64\n",
            "Column 'Sulfate' has data type: float64\n",
            "Column 'Conductivity' has data type: float64\n",
            "Column 'Organic_carbon' has data type: float64\n",
            "Column 'Trihalomethanes' has data type: float64\n",
            "Column 'Turbidity' has data type: float64\n",
            "Column 'Potability' has data type: int64\n"
          ]
        }
      ]
    },
    {
      "cell_type": "code",
      "source": [
        "df.info()\n"
      ],
      "metadata": {
        "id": "YKEGUyGjXfcK",
        "colab": {
          "base_uri": "https://localhost:8080/"
        },
        "outputId": "7694159f-22bc-488e-9a21-e4e0f02c7772"
      },
      "execution_count": null,
      "outputs": [
        {
          "output_type": "stream",
          "name": "stdout",
          "text": [
            "<class 'pandas.core.frame.DataFrame'>\n",
            "RangeIndex: 3276 entries, 0 to 3275\n",
            "Data columns (total 10 columns):\n",
            " #   Column           Non-Null Count  Dtype  \n",
            "---  ------           --------------  -----  \n",
            " 0   ph               2785 non-null   float64\n",
            " 1   Hardness         3276 non-null   float64\n",
            " 2   Solids           3276 non-null   float64\n",
            " 3   Chloramines      3276 non-null   float64\n",
            " 4   Sulfate          2495 non-null   float64\n",
            " 5   Conductivity     3276 non-null   float64\n",
            " 6   Organic_carbon   3276 non-null   float64\n",
            " 7   Trihalomethanes  3114 non-null   float64\n",
            " 8   Turbidity        3276 non-null   float64\n",
            " 9   Potability       3276 non-null   int64  \n",
            "dtypes: float64(9), int64(1)\n",
            "memory usage: 256.1 KB\n"
          ]
        }
      ]
    },
    {
      "cell_type": "code",
      "source": [
        "df.describe()\n"
      ],
      "metadata": {
        "id": "7CRrn0LJXjx3",
        "colab": {
          "base_uri": "https://localhost:8080/",
          "height": 300
        },
        "outputId": "2596a68f-742f-4649-f9f5-f47b9860a75c"
      },
      "execution_count": null,
      "outputs": [
        {
          "output_type": "execute_result",
          "data": {
            "text/plain": [
              "                ph     Hardness        Solids  Chloramines      Sulfate  \\\n",
              "count  2785.000000  3276.000000   3276.000000  3276.000000  2495.000000   \n",
              "mean      7.080795   196.369496  22014.092526     7.122277   333.775777   \n",
              "std       1.594320    32.879761   8768.570828     1.583085    41.416840   \n",
              "min       0.000000    47.432000    320.942611     0.352000   129.000000   \n",
              "25%       6.093092   176.850538  15666.690297     6.127421   307.699498   \n",
              "50%       7.036752   196.967627  20927.833607     7.130299   333.073546   \n",
              "75%       8.062066   216.667456  27332.762127     8.114887   359.950170   \n",
              "max      14.000000   323.124000  61227.196008    13.127000   481.030642   \n",
              "\n",
              "       Conductivity  Organic_carbon  Trihalomethanes    Turbidity   Potability  \n",
              "count   3276.000000     3276.000000      3114.000000  3276.000000  3276.000000  \n",
              "mean     426.205111       14.284970        66.396293     3.966786     0.390110  \n",
              "std       80.824064        3.308162        16.175008     0.780382     0.487849  \n",
              "min      181.483754        2.200000         0.738000     1.450000     0.000000  \n",
              "25%      365.734414       12.065801        55.844536     3.439711     0.000000  \n",
              "50%      421.884968       14.218338        66.622485     3.955028     0.000000  \n",
              "75%      481.792304       16.557652        77.337473     4.500320     1.000000  \n",
              "max      753.342620       28.300000       124.000000     6.739000     1.000000  "
            ],
            "text/html": [
              "\n",
              "  <div id=\"df-aa8e36b2-d8c5-4406-a360-9e52ac980504\">\n",
              "    <div class=\"colab-df-container\">\n",
              "      <div>\n",
              "<style scoped>\n",
              "    .dataframe tbody tr th:only-of-type {\n",
              "        vertical-align: middle;\n",
              "    }\n",
              "\n",
              "    .dataframe tbody tr th {\n",
              "        vertical-align: top;\n",
              "    }\n",
              "\n",
              "    .dataframe thead th {\n",
              "        text-align: right;\n",
              "    }\n",
              "</style>\n",
              "<table border=\"1\" class=\"dataframe\">\n",
              "  <thead>\n",
              "    <tr style=\"text-align: right;\">\n",
              "      <th></th>\n",
              "      <th>ph</th>\n",
              "      <th>Hardness</th>\n",
              "      <th>Solids</th>\n",
              "      <th>Chloramines</th>\n",
              "      <th>Sulfate</th>\n",
              "      <th>Conductivity</th>\n",
              "      <th>Organic_carbon</th>\n",
              "      <th>Trihalomethanes</th>\n",
              "      <th>Turbidity</th>\n",
              "      <th>Potability</th>\n",
              "    </tr>\n",
              "  </thead>\n",
              "  <tbody>\n",
              "    <tr>\n",
              "      <th>count</th>\n",
              "      <td>2785.000000</td>\n",
              "      <td>3276.000000</td>\n",
              "      <td>3276.000000</td>\n",
              "      <td>3276.000000</td>\n",
              "      <td>2495.000000</td>\n",
              "      <td>3276.000000</td>\n",
              "      <td>3276.000000</td>\n",
              "      <td>3114.000000</td>\n",
              "      <td>3276.000000</td>\n",
              "      <td>3276.000000</td>\n",
              "    </tr>\n",
              "    <tr>\n",
              "      <th>mean</th>\n",
              "      <td>7.080795</td>\n",
              "      <td>196.369496</td>\n",
              "      <td>22014.092526</td>\n",
              "      <td>7.122277</td>\n",
              "      <td>333.775777</td>\n",
              "      <td>426.205111</td>\n",
              "      <td>14.284970</td>\n",
              "      <td>66.396293</td>\n",
              "      <td>3.966786</td>\n",
              "      <td>0.390110</td>\n",
              "    </tr>\n",
              "    <tr>\n",
              "      <th>std</th>\n",
              "      <td>1.594320</td>\n",
              "      <td>32.879761</td>\n",
              "      <td>8768.570828</td>\n",
              "      <td>1.583085</td>\n",
              "      <td>41.416840</td>\n",
              "      <td>80.824064</td>\n",
              "      <td>3.308162</td>\n",
              "      <td>16.175008</td>\n",
              "      <td>0.780382</td>\n",
              "      <td>0.487849</td>\n",
              "    </tr>\n",
              "    <tr>\n",
              "      <th>min</th>\n",
              "      <td>0.000000</td>\n",
              "      <td>47.432000</td>\n",
              "      <td>320.942611</td>\n",
              "      <td>0.352000</td>\n",
              "      <td>129.000000</td>\n",
              "      <td>181.483754</td>\n",
              "      <td>2.200000</td>\n",
              "      <td>0.738000</td>\n",
              "      <td>1.450000</td>\n",
              "      <td>0.000000</td>\n",
              "    </tr>\n",
              "    <tr>\n",
              "      <th>25%</th>\n",
              "      <td>6.093092</td>\n",
              "      <td>176.850538</td>\n",
              "      <td>15666.690297</td>\n",
              "      <td>6.127421</td>\n",
              "      <td>307.699498</td>\n",
              "      <td>365.734414</td>\n",
              "      <td>12.065801</td>\n",
              "      <td>55.844536</td>\n",
              "      <td>3.439711</td>\n",
              "      <td>0.000000</td>\n",
              "    </tr>\n",
              "    <tr>\n",
              "      <th>50%</th>\n",
              "      <td>7.036752</td>\n",
              "      <td>196.967627</td>\n",
              "      <td>20927.833607</td>\n",
              "      <td>7.130299</td>\n",
              "      <td>333.073546</td>\n",
              "      <td>421.884968</td>\n",
              "      <td>14.218338</td>\n",
              "      <td>66.622485</td>\n",
              "      <td>3.955028</td>\n",
              "      <td>0.000000</td>\n",
              "    </tr>\n",
              "    <tr>\n",
              "      <th>75%</th>\n",
              "      <td>8.062066</td>\n",
              "      <td>216.667456</td>\n",
              "      <td>27332.762127</td>\n",
              "      <td>8.114887</td>\n",
              "      <td>359.950170</td>\n",
              "      <td>481.792304</td>\n",
              "      <td>16.557652</td>\n",
              "      <td>77.337473</td>\n",
              "      <td>4.500320</td>\n",
              "      <td>1.000000</td>\n",
              "    </tr>\n",
              "    <tr>\n",
              "      <th>max</th>\n",
              "      <td>14.000000</td>\n",
              "      <td>323.124000</td>\n",
              "      <td>61227.196008</td>\n",
              "      <td>13.127000</td>\n",
              "      <td>481.030642</td>\n",
              "      <td>753.342620</td>\n",
              "      <td>28.300000</td>\n",
              "      <td>124.000000</td>\n",
              "      <td>6.739000</td>\n",
              "      <td>1.000000</td>\n",
              "    </tr>\n",
              "  </tbody>\n",
              "</table>\n",
              "</div>\n",
              "      <button class=\"colab-df-convert\" onclick=\"convertToInteractive('df-aa8e36b2-d8c5-4406-a360-9e52ac980504')\"\n",
              "              title=\"Convert this dataframe to an interactive table.\"\n",
              "              style=\"display:none;\">\n",
              "        \n",
              "  <svg xmlns=\"http://www.w3.org/2000/svg\" height=\"24px\"viewBox=\"0 0 24 24\"\n",
              "       width=\"24px\">\n",
              "    <path d=\"M0 0h24v24H0V0z\" fill=\"none\"/>\n",
              "    <path d=\"M18.56 5.44l.94 2.06.94-2.06 2.06-.94-2.06-.94-.94-2.06-.94 2.06-2.06.94zm-11 1L8.5 8.5l.94-2.06 2.06-.94-2.06-.94L8.5 2.5l-.94 2.06-2.06.94zm10 10l.94 2.06.94-2.06 2.06-.94-2.06-.94-.94-2.06-.94 2.06-2.06.94z\"/><path d=\"M17.41 7.96l-1.37-1.37c-.4-.4-.92-.59-1.43-.59-.52 0-1.04.2-1.43.59L10.3 9.45l-7.72 7.72c-.78.78-.78 2.05 0 2.83L4 21.41c.39.39.9.59 1.41.59.51 0 1.02-.2 1.41-.59l7.78-7.78 2.81-2.81c.8-.78.8-2.07 0-2.86zM5.41 20L4 18.59l7.72-7.72 1.47 1.35L5.41 20z\"/>\n",
              "  </svg>\n",
              "      </button>\n",
              "      \n",
              "  <style>\n",
              "    .colab-df-container {\n",
              "      display:flex;\n",
              "      flex-wrap:wrap;\n",
              "      gap: 12px;\n",
              "    }\n",
              "\n",
              "    .colab-df-convert {\n",
              "      background-color: #E8F0FE;\n",
              "      border: none;\n",
              "      border-radius: 50%;\n",
              "      cursor: pointer;\n",
              "      display: none;\n",
              "      fill: #1967D2;\n",
              "      height: 32px;\n",
              "      padding: 0 0 0 0;\n",
              "      width: 32px;\n",
              "    }\n",
              "\n",
              "    .colab-df-convert:hover {\n",
              "      background-color: #E2EBFA;\n",
              "      box-shadow: 0px 1px 2px rgba(60, 64, 67, 0.3), 0px 1px 3px 1px rgba(60, 64, 67, 0.15);\n",
              "      fill: #174EA6;\n",
              "    }\n",
              "\n",
              "    [theme=dark] .colab-df-convert {\n",
              "      background-color: #3B4455;\n",
              "      fill: #D2E3FC;\n",
              "    }\n",
              "\n",
              "    [theme=dark] .colab-df-convert:hover {\n",
              "      background-color: #434B5C;\n",
              "      box-shadow: 0px 1px 3px 1px rgba(0, 0, 0, 0.15);\n",
              "      filter: drop-shadow(0px 1px 2px rgba(0, 0, 0, 0.3));\n",
              "      fill: #FFFFFF;\n",
              "    }\n",
              "  </style>\n",
              "\n",
              "      <script>\n",
              "        const buttonEl =\n",
              "          document.querySelector('#df-aa8e36b2-d8c5-4406-a360-9e52ac980504 button.colab-df-convert');\n",
              "        buttonEl.style.display =\n",
              "          google.colab.kernel.accessAllowed ? 'block' : 'none';\n",
              "\n",
              "        async function convertToInteractive(key) {\n",
              "          const element = document.querySelector('#df-aa8e36b2-d8c5-4406-a360-9e52ac980504');\n",
              "          const dataTable =\n",
              "            await google.colab.kernel.invokeFunction('convertToInteractive',\n",
              "                                                     [key], {});\n",
              "          if (!dataTable) return;\n",
              "\n",
              "          const docLinkHtml = 'Like what you see? Visit the ' +\n",
              "            '<a target=\"_blank\" href=https://colab.research.google.com/notebooks/data_table.ipynb>data table notebook</a>'\n",
              "            + ' to learn more about interactive tables.';\n",
              "          element.innerHTML = '';\n",
              "          dataTable['output_type'] = 'display_data';\n",
              "          await google.colab.output.renderOutput(dataTable, element);\n",
              "          const docLink = document.createElement('div');\n",
              "          docLink.innerHTML = docLinkHtml;\n",
              "          element.appendChild(docLink);\n",
              "        }\n",
              "      </script>\n",
              "    </div>\n",
              "  </div>\n",
              "  "
            ]
          },
          "metadata": {},
          "execution_count": 8
        }
      ]
    },
    {
      "cell_type": "code",
      "source": [
        "df.isnull().sum()"
      ],
      "metadata": {
        "id": "sQFLEgaDXpT9",
        "colab": {
          "base_uri": "https://localhost:8080/"
        },
        "outputId": "3e79d167-74e7-4645-9fb6-c0c382f1b4c6"
      },
      "execution_count": null,
      "outputs": [
        {
          "output_type": "execute_result",
          "data": {
            "text/plain": [
              "ph                 491\n",
              "Hardness             0\n",
              "Solids               0\n",
              "Chloramines          0\n",
              "Sulfate            781\n",
              "Conductivity         0\n",
              "Organic_carbon       0\n",
              "Trihalomethanes    162\n",
              "Turbidity            0\n",
              "Potability           0\n",
              "dtype: int64"
            ]
          },
          "metadata": {},
          "execution_count": 9
        }
      ]
    },
    {
      "cell_type": "code",
      "source": [
        "import missingno as msno\n",
        "import matplotlib.pyplot as plt\n",
        "msno.matrix(df)\n",
        "plt.show()"
      ],
      "metadata": {
        "id": "MYXiTStOa8VY",
        "colab": {
          "base_uri": "https://localhost:8080/",
          "height": 676
        },
        "outputId": "02e8e49a-9b17-4052-d546-16e46f00d28c"
      },
      "execution_count": null,
      "outputs": [
        {
          "output_type": "display_data",
          "data": {
            "text/plain": [
              "<Figure size 2500x1000 with 2 Axes>"
            ],
            "image/png": "[encoded data removed]"
          },
          "metadata": {}
        }
      ]
    },
    {
      "cell_type": "markdown",
      "source": [
        "To best resolve the NULL values in the dateset, we would be examining each ph, sulfate, and trihalomethanes value's relationship to water potability.\n",
        "We will be refer to the following article for each variable:\n",
        "1. Sulfate: https://www.epa.gov/sites/default/files/2014-09/documents/support_cc1_sulfate_healtheffects.pdf\n",
        "2. PH level: https://www3.uwsp.edu/cnr-ap/weal/Documents/HOPinterp.pdf\n",
        "3. trihalomethanes: https://www.ncbi.nlm.nih.gov/pmc/articles/PMC1257669/"
      ],
      "metadata": {
        "id": "8K1WaD_Rbepf"
      }
    },
    {
      "cell_type": "code",
      "source": [
        "print('PH Conditions:')\n",
        "print('Potaility = 0 & Hardness <= 150:')\n",
        "condition_1_ph = df[(df['Potability'] == 0) & (df['Hardness'] <= 150)][['ph']].mean()\n",
        "print(condition_1_ph)\n",
        "print('Potaility = 0 & Hardness > 150:')\n",
        "condition_2_ph = df[(df['Potability'] == 0) & (df['Hardness'] > 150)][['ph']].mean()\n",
        "print(condition_2_ph)\n",
        "print('Potaility = 1 & Hardness <= 150:')\n",
        "condition_3_ph = df[(df['Potability'] == 0) & (df['Hardness'] <= 150)][['ph']].mean()\n",
        "print(condition_3_ph)\n",
        "print('Potaility = 1 & Hardness > 150:')\n",
        "condition_4_ph = df[(df['Potability'] == 0) & (df['Hardness'] > 150)][['ph']].mean()\n",
        "print(condition_4_ph)"
      ],
      "metadata": {
        "id": "keT04ORwezR7",
        "colab": {
          "base_uri": "https://localhost:8080/"
        },
        "outputId": "3736e6da-c743-4a26-ff7a-6e6dfc312963"
      },
      "execution_count": null,
      "outputs": [
        {
          "output_type": "stream",
          "name": "stdout",
          "text": [
            "PH Conditions:\n",
            "Potaility = 0 & Hardness <= 150:\n",
            "ph    6.721973\n",
            "dtype: float64\n",
            "Potaility = 0 & Hardness > 150:\n",
            "ph    7.112512\n",
            "dtype: float64\n",
            "Potaility = 1 & Hardness <= 150:\n",
            "ph    6.721973\n",
            "dtype: float64\n",
            "Potaility = 1 & Hardness > 150:\n",
            "ph    7.112512\n",
            "dtype: float64\n"
          ]
        }
      ]
    },
    {
      "cell_type": "code",
      "source": [
        "for x in range(0, len(df)) :\n",
        "    if (pd.isnull(df['ph'][x]) == True) :\n",
        "        if ((df['Potability'][x] == 0) & (df['Hardness'][x] <= 150)):\n",
        "           df['ph'][x] = condition_1_ph\n",
        "        elif ((df['Potability'][x] == 0) & (df['Hardness'][x] > 150)):\n",
        "           df['ph'][x] = condition_2_ph\n",
        "        elif ((df['Potability'][x] == 1) & (df['Hardness'][x] <= 150)):\n",
        "           df['ph'][x] = condition_3_ph\n",
        "        elif ((df['Potability'][x] == 1) & (df['Hardness'][x] > 150)):\n",
        "           df['ph'][x] = condition_4_ph"
      ],
      "metadata": {
        "id": "QrU8IbMBiDXE",
        "colab": {
          "base_uri": "https://localhost:8080/"
        },
        "outputId": "cd741d08-da5d-4527-9014-c6f887187e00"
      },
      "execution_count": null,
      "outputs": [
        {
          "output_type": "stream",
          "name": "stderr",
          "text": [
            "<ipython-input-12-662b0c509419>:6: SettingWithCopyWarning: \n",
            "A value is trying to be set on a copy of a slice from a DataFrame\n",
            "\n",
            "See the caveats in the documentation: https://pandas.pydata.org/pandas-docs/stable/user_guide/indexing.html#returning-a-view-versus-a-copy\n",
            "  df['ph'][x] = condition_2_ph\n",
            "<ipython-input-12-662b0c509419>:4: SettingWithCopyWarning: \n",
            "A value is trying to be set on a copy of a slice from a DataFrame\n",
            "\n",
            "See the caveats in the documentation: https://pandas.pydata.org/pandas-docs/stable/user_guide/indexing.html#returning-a-view-versus-a-copy\n",
            "  df['ph'][x] = condition_1_ph\n",
            "<ipython-input-12-662b0c509419>:10: SettingWithCopyWarning: \n",
            "A value is trying to be set on a copy of a slice from a DataFrame\n",
            "\n",
            "See the caveats in the documentation: https://pandas.pydata.org/pandas-docs/stable/user_guide/indexing.html#returning-a-view-versus-a-copy\n",
            "  df['ph'][x] = condition_4_ph\n",
            "<ipython-input-12-662b0c509419>:8: SettingWithCopyWarning: \n",
            "A value is trying to be set on a copy of a slice from a DataFrame\n",
            "\n",
            "See the caveats in the documentation: https://pandas.pydata.org/pandas-docs/stable/user_guide/indexing.html#returning-a-view-versus-a-copy\n",
            "  df['ph'][x] = condition_3_ph\n"
          ]
        }
      ]
    },
    {
      "cell_type": "code",
      "source": [
        "print('Sulfate Conditions:')\n",
        "\n",
        "print('Potability = 0:')\n",
        "condition_1_sulfate = df[(df['Potability'] == 0)][['Sulfate']].mean()\n",
        "print(condition_1_sulfate)\n",
        "print('Potability = 1:')\n",
        "condition_2_sulfate = df[(df['Potability'] == 1)][['Sulfate']].mean()\n",
        "print(condition_2_sulfate)\n"
      ],
      "metadata": {
        "id": "_kTnweYtjUSH",
        "colab": {
          "base_uri": "https://localhost:8080/"
        },
        "outputId": "7c16954e-23d6-43c4-fc59-8e73dd0d46ce"
      },
      "execution_count": null,
      "outputs": [
        {
          "output_type": "stream",
          "name": "stdout",
          "text": [
            "Sulfate Conditions:\n",
            "Potability = 0:\n",
            "Sulfate    334.56429\n",
            "dtype: float64\n",
            "Potability = 1:\n",
            "Sulfate    332.56699\n",
            "dtype: float64\n"
          ]
        }
      ]
    },
    {
      "cell_type": "code",
      "source": [
        "for x in range(0, len(df)) :\n",
        "    if (pd.isnull(df['Sulfate'][x]) == True) :\n",
        "        if (df['Potability'][x] == 0) : df['Sulfate'][x] = condition_1_sulfate\n",
        "        else : df['Sulfate'][x] = condition_2_sulfate"
      ],
      "metadata": {
        "id": "mEEpTz_6jfD7",
        "colab": {
          "base_uri": "https://localhost:8080/"
        },
        "outputId": "a1496734-87fe-40b3-8cc6-ea5a89d43804"
      },
      "execution_count": null,
      "outputs": [
        {
          "output_type": "stream",
          "name": "stderr",
          "text": [
            "<ipython-input-14-851d70c5b3f2>:3: SettingWithCopyWarning: \n",
            "A value is trying to be set on a copy of a slice from a DataFrame\n",
            "\n",
            "See the caveats in the documentation: https://pandas.pydata.org/pandas-docs/stable/user_guide/indexing.html#returning-a-view-versus-a-copy\n",
            "  if (df['Potability'][x] == 0) : df['Sulfate'][x] = condition_1_sulfate\n",
            "<ipython-input-14-851d70c5b3f2>:4: SettingWithCopyWarning: \n",
            "A value is trying to be set on a copy of a slice from a DataFrame\n",
            "\n",
            "See the caveats in the documentation: https://pandas.pydata.org/pandas-docs/stable/user_guide/indexing.html#returning-a-view-versus-a-copy\n",
            "  else : df['Sulfate'][x] = condition_2_sulfate\n"
          ]
        }
      ]
    },
    {
      "cell_type": "code",
      "source": [
        "print('Trihalomethanes Conditions:')\n",
        "\n",
        "print('Potability = 0:')\n",
        "condition_1_tri = df[(df['Potability'] == 0)][['Trihalomethanes']].mean()\n",
        "print(condition_1_tri)\n",
        "print('Potability = 1:')\n",
        "condition_2_tri = df[(df['Potability'] == 1)][['Trihalomethanes']].mean()\n",
        "print(condition_2_tri)\n"
      ],
      "metadata": {
        "colab": {
          "base_uri": "https://localhost:8080/"
        },
        "id": "KUtG0C0j3ynK",
        "outputId": "7e0d497b-877f-493e-8934-87b39359092e"
      },
      "execution_count": null,
      "outputs": [
        {
          "output_type": "stream",
          "name": "stdout",
          "text": [
            "Trihalomethanes Conditions:\n",
            "Potability = 0:\n",
            "Trihalomethanes    66.303555\n",
            "dtype: float64\n",
            "Potability = 1:\n",
            "Trihalomethanes    66.539684\n",
            "dtype: float64\n"
          ]
        }
      ]
    },
    {
      "cell_type": "code",
      "source": [
        "for x in range(0, len(df)) :\n",
        "    if (pd.isnull(df['Trihalomethanes'][x]) == True) :\n",
        "        if (df['Potability'][x] == 0) : df['Trihalomethanes'][x] = condition_1_tri\n",
        "        else : df['Trihalomethanes'][x] = condition_2_tri\n"
      ],
      "metadata": {
        "id": "Zo79Sahrjtgk",
        "colab": {
          "base_uri": "https://localhost:8080/"
        },
        "outputId": "8adfd095-ae49-4b02-d86e-f2e00d2babee"
      },
      "execution_count": null,
      "outputs": [
        {
          "output_type": "stream",
          "name": "stderr",
          "text": [
            "<ipython-input-16-6f45469bc35e>:3: SettingWithCopyWarning: \n",
            "A value is trying to be set on a copy of a slice from a DataFrame\n",
            "\n",
            "See the caveats in the documentation: https://pandas.pydata.org/pandas-docs/stable/user_guide/indexing.html#returning-a-view-versus-a-copy\n",
            "  if (df['Potability'][x] == 0) : df['Trihalomethanes'][x] = condition_1_tri\n",
            "<ipython-input-16-6f45469bc35e>:4: SettingWithCopyWarning: \n",
            "A value is trying to be set on a copy of a slice from a DataFrame\n",
            "\n",
            "See the caveats in the documentation: https://pandas.pydata.org/pandas-docs/stable/user_guide/indexing.html#returning-a-view-versus-a-copy\n",
            "  else : df['Trihalomethanes'][x] = condition_2_tri\n"
          ]
        }
      ]
    },
    {
      "cell_type": "code",
      "source": [
        "msno.matrix(df)\n",
        "plt.show()"
      ],
      "metadata": {
        "id": "dAR2CgFCjkRl",
        "colab": {
          "base_uri": "https://localhost:8080/",
          "height": 676
        },
        "outputId": "09fab1c9-229a-46fa-dcad-9e8977e4605a"
      },
      "execution_count": null,
      "outputs": [
        {
          "output_type": "display_data",
          "data": {
            "text/plain": [
              "<Figure size 2500x1000 with 2 Axes>"
            ],
            "image/png": "[encoded data removed]"
          },
          "metadata": {}
        }
      ]
    },
    {
      "cell_type": "code",
      "source": [
        "from sklearn.preprocessing import MinMaxScaler\n",
        "scaler = MinMaxScaler()\n",
        "normalized_data = scaler.fit_transform(df)\n",
        "df = pd.DataFrame(normalized_data, columns=df.columns)\n"
      ],
      "metadata": {
        "id": "PyYF83Kn6m35"
      },
      "execution_count": null,
      "outputs": []
    },
    {
      "cell_type": "code",
      "source": [
        "df.describe()"
      ],
      "metadata": {
        "colab": {
          "base_uri": "https://localhost:8080/",
          "height": 300
        },
        "id": "DvK1EJ-HLvp9",
        "outputId": "6df324d6-f09f-42c4-9062-1fdaf77dd398"
      },
      "execution_count": null,
      "outputs": [
        {
          "output_type": "execute_result",
          "data": {
            "text/plain": [
              "                ph     Hardness       Solids  Chloramines      Sulfate  \\\n",
              "count  3276.000000  3276.000000  3276.000000  3276.000000  3276.000000   \n",
              "mean      0.505796     0.540231     0.356173     0.529963     0.581725   \n",
              "std       0.105036     0.119263     0.143968     0.123921     0.102678   \n",
              "min       0.000000     0.000000     0.000000     0.000000     0.000000   \n",
              "25%       0.448405     0.469432     0.251957     0.452088     0.534313   \n",
              "50%       0.508037     0.542401     0.338338     0.530591     0.583939   \n",
              "75%       0.562146     0.613857     0.443498     0.607662     0.628882   \n",
              "max       1.000000     1.000000     1.000000     1.000000     1.000000   \n",
              "\n",
              "       Conductivity  Organic_carbon  Trihalomethanes    Turbidity   Potability  \n",
              "count   3276.000000     3276.000000      3276.000000  3276.000000  3276.000000  \n",
              "mean       0.427940        0.463026         0.532668     0.475853     0.390110  \n",
              "std        0.141336        0.126750         0.127938     0.147548     0.487849  \n",
              "min        0.000000        0.000000         0.000000     0.000000     0.000000  \n",
              "25%        0.322196        0.378000         0.453584     0.376198     0.000000  \n",
              "50%        0.420386        0.460473         0.531920     0.473630     0.000000  \n",
              "75%        0.525145        0.550102         0.615994     0.576729     1.000000  \n",
              "max        1.000000        1.000000         1.000000     1.000000     1.000000  "
            ],
            "text/html": [
              "\n",
              "  <div id=\"df-744863e5-447c-44d0-af4e-21518660a7d6\">\n",
              "    <div class=\"colab-df-container\">\n",
              "      <div>\n",
              "<style scoped>\n",
              "    .dataframe tbody tr th:only-of-type {\n",
              "        vertical-align: middle;\n",
              "    }\n",
              "\n",
              "    .dataframe tbody tr th {\n",
              "        vertical-align: top;\n",
              "    }\n",
              "\n",
              "    .dataframe thead th {\n",
              "        text-align: right;\n",
              "    }\n",
              "</style>\n",
              "<table border=\"1\" class=\"dataframe\">\n",
              "  <thead>\n",
              "    <tr style=\"text-align: right;\">\n",
              "      <th></th>\n",
              "      <th>ph</th>\n",
              "      <th>Hardness</th>\n",
              "      <th>Solids</th>\n",
              "      <th>Chloramines</th>\n",
              "      <th>Sulfate</th>\n",
              "      <th>Conductivity</th>\n",
              "      <th>Organic_carbon</th>\n",
              "      <th>Trihalomethanes</th>\n",
              "      <th>Turbidity</th>\n",
              "      <th>Potability</th>\n",
              "    </tr>\n",
              "  </thead>\n",
              "  <tbody>\n",
              "    <tr>\n",
              "      <th>count</th>\n",
              "      <td>3276.000000</td>\n",
              "      <td>3276.000000</td>\n",
              "      <td>3276.000000</td>\n",
              "      <td>3276.000000</td>\n",
              "      <td>3276.000000</td>\n",
              "      <td>3276.000000</td>\n",
              "      <td>3276.000000</td>\n",
              "      <td>3276.000000</td>\n",
              "      <td>3276.000000</td>\n",
              "      <td>3276.000000</td>\n",
              "    </tr>\n",
              "    <tr>\n",
              "      <th>mean</th>\n",
              "      <td>0.505796</td>\n",
              "      <td>0.540231</td>\n",
              "      <td>0.356173</td>\n",
              "      <td>0.529963</td>\n",
              "      <td>0.581725</td>\n",
              "      <td>0.427940</td>\n",
              "      <td>0.463026</td>\n",
              "      <td>0.532668</td>\n",
              "      <td>0.475853</td>\n",
              "      <td>0.390110</td>\n",
              "    </tr>\n",
              "    <tr>\n",
              "      <th>std</th>\n",
              "      <td>0.105036</td>\n",
              "      <td>0.119263</td>\n",
              "      <td>0.143968</td>\n",
              "      <td>0.123921</td>\n",
              "      <td>0.102678</td>\n",
              "      <td>0.141336</td>\n",
              "      <td>0.126750</td>\n",
              "      <td>0.127938</td>\n",
              "      <td>0.147548</td>\n",
              "      <td>0.487849</td>\n",
              "    </tr>\n",
              "    <tr>\n",
              "      <th>min</th>\n",
              "      <td>0.000000</td>\n",
              "      <td>0.000000</td>\n",
              "      <td>0.000000</td>\n",
              "      <td>0.000000</td>\n",
              "      <td>0.000000</td>\n",
              "      <td>0.000000</td>\n",
              "      <td>0.000000</td>\n",
              "      <td>0.000000</td>\n",
              "      <td>0.000000</td>\n",
              "      <td>0.000000</td>\n",
              "    </tr>\n",
              "    <tr>\n",
              "      <th>25%</th>\n",
              "      <td>0.448405</td>\n",
              "      <td>0.469432</td>\n",
              "      <td>0.251957</td>\n",
              "      <td>0.452088</td>\n",
              "      <td>0.534313</td>\n",
              "      <td>0.322196</td>\n",
              "      <td>0.378000</td>\n",
              "      <td>0.453584</td>\n",
              "      <td>0.376198</td>\n",
              "      <td>0.000000</td>\n",
              "    </tr>\n",
              "    <tr>\n",
              "      <th>50%</th>\n",
              "      <td>0.508037</td>\n",
              "      <td>0.542401</td>\n",
              "      <td>0.338338</td>\n",
              "      <td>0.530591</td>\n",
              "      <td>0.583939</td>\n",
              "      <td>0.420386</td>\n",
              "      <td>0.460473</td>\n",
              "      <td>0.531920</td>\n",
              "      <td>0.473630</td>\n",
              "      <td>0.000000</td>\n",
              "    </tr>\n",
              "    <tr>\n",
              "      <th>75%</th>\n",
              "      <td>0.562146</td>\n",
              "      <td>0.613857</td>\n",
              "      <td>0.443498</td>\n",
              "      <td>0.607662</td>\n",
              "      <td>0.628882</td>\n",
              "      <td>0.525145</td>\n",
              "      <td>0.550102</td>\n",
              "      <td>0.615994</td>\n",
              "      <td>0.576729</td>\n",
              "      <td>1.000000</td>\n",
              "    </tr>\n",
              "    <tr>\n",
              "      <th>max</th>\n",
              "      <td>1.000000</td>\n",
              "      <td>1.000000</td>\n",
              "      <td>1.000000</td>\n",
              "      <td>1.000000</td>\n",
              "      <td>1.000000</td>\n",
              "      <td>1.000000</td>\n",
              "      <td>1.000000</td>\n",
              "      <td>1.000000</td>\n",
              "      <td>1.000000</td>\n",
              "      <td>1.000000</td>\n",
              "    </tr>\n",
              "  </tbody>\n",
              "</table>\n",
              "</div>\n",
              "      <button class=\"colab-df-convert\" onclick=\"convertToInteractive('df-744863e5-447c-44d0-af4e-21518660a7d6')\"\n",
              "              title=\"Convert this dataframe to an interactive table.\"\n",
              "              style=\"display:none;\">\n",
              "        \n",
              "  <svg xmlns=\"http://www.w3.org/2000/svg\" height=\"24px\"viewBox=\"0 0 24 24\"\n",
              "       width=\"24px\">\n",
              "    <path d=\"M0 0h24v24H0V0z\" fill=\"none\"/>\n",
              "    <path d=\"M18.56 5.44l.94 2.06.94-2.06 2.06-.94-2.06-.94-.94-2.06-.94 2.06-2.06.94zm-11 1L8.5 8.5l.94-2.06 2.06-.94-2.06-.94L8.5 2.5l-.94 2.06-2.06.94zm10 10l.94 2.06.94-2.06 2.06-.94-2.06-.94-.94-2.06-.94 2.06-2.06.94z\"/><path d=\"M17.41 7.96l-1.37-1.37c-.4-.4-.92-.59-1.43-.59-.52 0-1.04.2-1.43.59L10.3 9.45l-7.72 7.72c-.78.78-.78 2.05 0 2.83L4 21.41c.39.39.9.59 1.41.59.51 0 1.02-.2 1.41-.59l7.78-7.78 2.81-2.81c.8-.78.8-2.07 0-2.86zM5.41 20L4 18.59l7.72-7.72 1.47 1.35L5.41 20z\"/>\n",
              "  </svg>\n",
              "      </button>\n",
              "      \n",
              "  <style>\n",
              "    .colab-df-container {\n",
              "      display:flex;\n",
              "      flex-wrap:wrap;\n",
              "      gap: 12px;\n",
              "    }\n",
              "\n",
              "    .colab-df-convert {\n",
              "      background-color: #E8F0FE;\n",
              "      border: none;\n",
              "      border-radius: 50%;\n",
              "      cursor: pointer;\n",
              "      display: none;\n",
              "      fill: #1967D2;\n",
              "      height: 32px;\n",
              "      padding: 0 0 0 0;\n",
              "      width: 32px;\n",
              "    }\n",
              "\n",
              "    .colab-df-convert:hover {\n",
              "      background-color: #E2EBFA;\n",
              "      box-shadow: 0px 1px 2px rgba(60, 64, 67, 0.3), 0px 1px 3px 1px rgba(60, 64, 67, 0.15);\n",
              "      fill: #174EA6;\n",
              "    }\n",
              "\n",
              "    [theme=dark] .colab-df-convert {\n",
              "      background-color: #3B4455;\n",
              "      fill: #D2E3FC;\n",
              "    }\n",
              "\n",
              "    [theme=dark] .colab-df-convert:hover {\n",
              "      background-color: #434B5C;\n",
              "      box-shadow: 0px 1px 3px 1px rgba(0, 0, 0, 0.15);\n",
              "      filter: drop-shadow(0px 1px 2px rgba(0, 0, 0, 0.3));\n",
              "      fill: #FFFFFF;\n",
              "    }\n",
              "  </style>\n",
              "\n",
              "      <script>\n",
              "        const buttonEl =\n",
              "          document.querySelector('#df-744863e5-447c-44d0-af4e-21518660a7d6 button.colab-df-convert');\n",
              "        buttonEl.style.display =\n",
              "          google.colab.kernel.accessAllowed ? 'block' : 'none';\n",
              "\n",
              "        async function convertToInteractive(key) {\n",
              "          const element = document.querySelector('#df-744863e5-447c-44d0-af4e-21518660a7d6');\n",
              "          const dataTable =\n",
              "            await google.colab.kernel.invokeFunction('convertToInteractive',\n",
              "                                                     [key], {});\n",
              "          if (!dataTable) return;\n",
              "\n",
              "          const docLinkHtml = 'Like what you see? Visit the ' +\n",
              "            '<a target=\"_blank\" href=https://colab.research.google.com/notebooks/data_table.ipynb>data table notebook</a>'\n",
              "            + ' to learn more about interactive tables.';\n",
              "          element.innerHTML = '';\n",
              "          dataTable['output_type'] = 'display_data';\n",
              "          await google.colab.output.renderOutput(dataTable, element);\n",
              "          const docLink = document.createElement('div');\n",
              "          docLink.innerHTML = docLinkHtml;\n",
              "          element.appendChild(docLink);\n",
              "        }\n",
              "      </script>\n",
              "    </div>\n",
              "  </div>\n",
              "  "
            ]
          },
          "metadata": {},
          "execution_count": 54
        }
      ]
    },
    {
      "cell_type": "code",
      "source": [
        "import seaborn as sns"
      ],
      "metadata": {
        "id": "5nRHL0BG8vp8"
      },
      "execution_count": null,
      "outputs": []
    },
    {
      "cell_type": "code",
      "source": [
        "plt.figure(figsize=(10,8))\n",
        "for i,col in enumerate(df.columns):\n",
        "    plt.subplot(4,3,i+1)\n",
        "    sns.kdeplot(data=df[col])\n",
        "    plt.tight_layout()"
      ],
      "metadata": {
        "colab": {
          "base_uri": "https://localhost:8080/",
          "height": 801
        },
        "id": "LhWKwSbe8piu",
        "outputId": "ba257c13-48d2-44ec-e2fc-68fdf9c3eda6"
      },
      "execution_count": null,
      "outputs": [
        {
          "output_type": "display_data",
          "data": {
            "text/plain": [
              "<Figure size 1000x800 with 10 Axes>"
            ],
            "image/png": "[encoded data removed]"
          },
          "metadata": {}
        }
      ]
    },
    {
      "cell_type": "code",
      "source": [
        "# get inputs\n",
        "X = df.iloc[:, :-1]\n",
        "X.head()"
      ],
      "metadata": {
        "id": "sD97GY8AjqJO",
        "colab": {
          "base_uri": "https://localhost:8080/",
          "height": 206
        },
        "outputId": "a19405ff-ed08-4ad9-98ff-41aaab651d39"
      },
      "execution_count": null,
      "outputs": [
        {
          "output_type": "execute_result",
          "data": {
            "text/plain": [
              "         ph  Hardness    Solids  Chloramines   Sulfate  Conductivity  \\\n",
              "0  0.508037  0.571139  0.336096     0.543891  0.680385      0.669439   \n",
              "1  0.265434  0.297400  0.300611     0.491839  0.583939      0.719411   \n",
              "2  0.578509  0.641311  0.321619     0.698543  0.583939      0.414652   \n",
              "3  0.594055  0.605536  0.356244     0.603314  0.647347      0.317880   \n",
              "4  0.649445  0.484851  0.289922     0.484900  0.514545      0.379337   \n",
              "\n",
              "   Organic_carbon  Trihalomethanes  Turbidity  \n",
              "0        0.313402         0.699753   0.286091  \n",
              "1        0.497319         0.450999   0.576793  \n",
              "2        0.562017         0.532866   0.303637  \n",
              "3        0.622089         0.808065   0.601015  \n",
              "4        0.358555         0.253606   0.496327  "
            ],
            "text/html": [
              "\n",
              "  <div id=\"df-ba24294a-37af-4dfb-bd12-57cc9a04d7ec\">\n",
              "    <div class=\"colab-df-container\">\n",
              "      <div>\n",
              "<style scoped>\n",
              "    .dataframe tbody tr th:only-of-type {\n",
              "        vertical-align: middle;\n",
              "    }\n",
              "\n",
              "    .dataframe tbody tr th {\n",
              "        vertical-align: top;\n",
              "    }\n",
              "\n",
              "    .dataframe thead th {\n",
              "        text-align: right;\n",
              "    }\n",
              "</style>\n",
              "<table border=\"1\" class=\"dataframe\">\n",
              "  <thead>\n",
              "    <tr style=\"text-align: right;\">\n",
              "      <th></th>\n",
              "      <th>ph</th>\n",
              "      <th>Hardness</th>\n",
              "      <th>Solids</th>\n",
              "      <th>Chloramines</th>\n",
              "      <th>Sulfate</th>\n",
              "      <th>Conductivity</th>\n",
              "      <th>Organic_carbon</th>\n",
              "      <th>Trihalomethanes</th>\n",
              "      <th>Turbidity</th>\n",
              "    </tr>\n",
              "  </thead>\n",
              "  <tbody>\n",
              "    <tr>\n",
              "      <th>0</th>\n",
              "      <td>0.508037</td>\n",
              "      <td>0.571139</td>\n",
              "      <td>0.336096</td>\n",
              "      <td>0.543891</td>\n",
              "      <td>0.680385</td>\n",
              "      <td>0.669439</td>\n",
              "      <td>0.313402</td>\n",
              "      <td>0.699753</td>\n",
              "      <td>0.286091</td>\n",
              "    </tr>\n",
              "    <tr>\n",
              "      <th>1</th>\n",
              "      <td>0.265434</td>\n",
              "      <td>0.297400</td>\n",
              "      <td>0.300611</td>\n",
              "      <td>0.491839</td>\n",
              "      <td>0.583939</td>\n",
              "      <td>0.719411</td>\n",
              "      <td>0.497319</td>\n",
              "      <td>0.450999</td>\n",
              "      <td>0.576793</td>\n",
              "    </tr>\n",
              "    <tr>\n",
              "      <th>2</th>\n",
              "      <td>0.578509</td>\n",
              "      <td>0.641311</td>\n",
              "      <td>0.321619</td>\n",
              "      <td>0.698543</td>\n",
              "      <td>0.583939</td>\n",
              "      <td>0.414652</td>\n",
              "      <td>0.562017</td>\n",
              "      <td>0.532866</td>\n",
              "      <td>0.303637</td>\n",
              "    </tr>\n",
              "    <tr>\n",
              "      <th>3</th>\n",
              "      <td>0.594055</td>\n",
              "      <td>0.605536</td>\n",
              "      <td>0.356244</td>\n",
              "      <td>0.603314</td>\n",
              "      <td>0.647347</td>\n",
              "      <td>0.317880</td>\n",
              "      <td>0.622089</td>\n",
              "      <td>0.808065</td>\n",
              "      <td>0.601015</td>\n",
              "    </tr>\n",
              "    <tr>\n",
              "      <th>4</th>\n",
              "      <td>0.649445</td>\n",
              "      <td>0.484851</td>\n",
              "      <td>0.289922</td>\n",
              "      <td>0.484900</td>\n",
              "      <td>0.514545</td>\n",
              "      <td>0.379337</td>\n",
              "      <td>0.358555</td>\n",
              "      <td>0.253606</td>\n",
              "      <td>0.496327</td>\n",
              "    </tr>\n",
              "  </tbody>\n",
              "</table>\n",
              "</div>\n",
              "      <button class=\"colab-df-convert\" onclick=\"convertToInteractive('df-ba24294a-37af-4dfb-bd12-57cc9a04d7ec')\"\n",
              "              title=\"Convert this dataframe to an interactive table.\"\n",
              "              style=\"display:none;\">\n",
              "        \n",
              "  <svg xmlns=\"http://www.w3.org/2000/svg\" height=\"24px\"viewBox=\"0 0 24 24\"\n",
              "       width=\"24px\">\n",
              "    <path d=\"M0 0h24v24H0V0z\" fill=\"none\"/>\n",
              "    <path d=\"M18.56 5.44l.94 2.06.94-2.06 2.06-.94-2.06-.94-.94-2.06-.94 2.06-2.06.94zm-11 1L8.5 8.5l.94-2.06 2.06-.94-2.06-.94L8.5 2.5l-.94 2.06-2.06.94zm10 10l.94 2.06.94-2.06 2.06-.94-2.06-.94-.94-2.06-.94 2.06-2.06.94z\"/><path d=\"M17.41 7.96l-1.37-1.37c-.4-.4-.92-.59-1.43-.59-.52 0-1.04.2-1.43.59L10.3 9.45l-7.72 7.72c-.78.78-.78 2.05 0 2.83L4 21.41c.39.39.9.59 1.41.59.51 0 1.02-.2 1.41-.59l7.78-7.78 2.81-2.81c.8-.78.8-2.07 0-2.86zM5.41 20L4 18.59l7.72-7.72 1.47 1.35L5.41 20z\"/>\n",
              "  </svg>\n",
              "      </button>\n",
              "      \n",
              "  <style>\n",
              "    .colab-df-container {\n",
              "      display:flex;\n",
              "      flex-wrap:wrap;\n",
              "      gap: 12px;\n",
              "    }\n",
              "\n",
              "    .colab-df-convert {\n",
              "      background-color: #E8F0FE;\n",
              "      border: none;\n",
              "      border-radius: 50%;\n",
              "      cursor: pointer;\n",
              "      display: none;\n",
              "      fill: #1967D2;\n",
              "      height: 32px;\n",
              "      padding: 0 0 0 0;\n",
              "      width: 32px;\n",
              "    }\n",
              "\n",
              "    .colab-df-convert:hover {\n",
              "      background-color: #E2EBFA;\n",
              "      box-shadow: 0px 1px 2px rgba(60, 64, 67, 0.3), 0px 1px 3px 1px rgba(60, 64, 67, 0.15);\n",
              "      fill: #174EA6;\n",
              "    }\n",
              "\n",
              "    [theme=dark] .colab-df-convert {\n",
              "      background-color: #3B4455;\n",
              "      fill: #D2E3FC;\n",
              "    }\n",
              "\n",
              "    [theme=dark] .colab-df-convert:hover {\n",
              "      background-color: #434B5C;\n",
              "      box-shadow: 0px 1px 3px 1px rgba(0, 0, 0, 0.15);\n",
              "      filter: drop-shadow(0px 1px 2px rgba(0, 0, 0, 0.3));\n",
              "      fill: #FFFFFF;\n",
              "    }\n",
              "  </style>\n",
              "\n",
              "      <script>\n",
              "        const buttonEl =\n",
              "          document.querySelector('#df-ba24294a-37af-4dfb-bd12-57cc9a04d7ec button.colab-df-convert');\n",
              "        buttonEl.style.display =\n",
              "          google.colab.kernel.accessAllowed ? 'block' : 'none';\n",
              "\n",
              "        async function convertToInteractive(key) {\n",
              "          const element = document.querySelector('#df-ba24294a-37af-4dfb-bd12-57cc9a04d7ec');\n",
              "          const dataTable =\n",
              "            await google.colab.kernel.invokeFunction('convertToInteractive',\n",
              "                                                     [key], {});\n",
              "          if (!dataTable) return;\n",
              "\n",
              "          const docLinkHtml = 'Like what you see? Visit the ' +\n",
              "            '<a target=\"_blank\" href=https://colab.research.google.com/notebooks/data_table.ipynb>data table notebook</a>'\n",
              "            + ' to learn more about interactive tables.';\n",
              "          element.innerHTML = '';\n",
              "          dataTable['output_type'] = 'display_data';\n",
              "          await google.colab.output.renderOutput(dataTable, element);\n",
              "          const docLink = document.createElement('div');\n",
              "          docLink.innerHTML = docLinkHtml;\n",
              "          element.appendChild(docLink);\n",
              "        }\n",
              "      </script>\n",
              "    </div>\n",
              "  </div>\n",
              "  "
            ]
          },
          "metadata": {},
          "execution_count": 32
        }
      ]
    },
    {
      "cell_type": "code",
      "source": [
        "# get output\n",
        "y = df.iloc[:, -1:]\n",
        "y.head()"
      ],
      "metadata": {
        "id": "JS1A69zdkNIq",
        "colab": {
          "base_uri": "https://localhost:8080/",
          "height": 206
        },
        "outputId": "22fb5d4d-d62d-4092-af02-141f24e354fe"
      },
      "execution_count": null,
      "outputs": [
        {
          "output_type": "execute_result",
          "data": {
            "text/plain": [
              "   Potability\n",
              "0         0.0\n",
              "1         0.0\n",
              "2         0.0\n",
              "3         0.0\n",
              "4         0.0"
            ],
            "text/html": [
              "\n",
              "  <div id=\"df-32a18adc-4344-4c61-a14d-17bba43c9636\">\n",
              "    <div class=\"colab-df-container\">\n",
              "      <div>\n",
              "<style scoped>\n",
              "    .dataframe tbody tr th:only-of-type {\n",
              "        vertical-align: middle;\n",
              "    }\n",
              "\n",
              "    .dataframe tbody tr th {\n",
              "        vertical-align: top;\n",
              "    }\n",
              "\n",
              "    .dataframe thead th {\n",
              "        text-align: right;\n",
              "    }\n",
              "</style>\n",
              "<table border=\"1\" class=\"dataframe\">\n",
              "  <thead>\n",
              "    <tr style=\"text-align: right;\">\n",
              "      <th></th>\n",
              "      <th>Potability</th>\n",
              "    </tr>\n",
              "  </thead>\n",
              "  <tbody>\n",
              "    <tr>\n",
              "      <th>0</th>\n",
              "      <td>0.0</td>\n",
              "    </tr>\n",
              "    <tr>\n",
              "      <th>1</th>\n",
              "      <td>0.0</td>\n",
              "    </tr>\n",
              "    <tr>\n",
              "      <th>2</th>\n",
              "      <td>0.0</td>\n",
              "    </tr>\n",
              "    <tr>\n",
              "      <th>3</th>\n",
              "      <td>0.0</td>\n",
              "    </tr>\n",
              "    <tr>\n",
              "      <th>4</th>\n",
              "      <td>0.0</td>\n",
              "    </tr>\n",
              "  </tbody>\n",
              "</table>\n",
              "</div>\n",
              "      <button class=\"colab-df-convert\" onclick=\"convertToInteractive('df-32a18adc-4344-4c61-a14d-17bba43c9636')\"\n",
              "              title=\"Convert this dataframe to an interactive table.\"\n",
              "              style=\"display:none;\">\n",
              "        \n",
              "  <svg xmlns=\"http://www.w3.org/2000/svg\" height=\"24px\"viewBox=\"0 0 24 24\"\n",
              "       width=\"24px\">\n",
              "    <path d=\"M0 0h24v24H0V0z\" fill=\"none\"/>\n",
              "    <path d=\"M18.56 5.44l.94 2.06.94-2.06 2.06-.94-2.06-.94-.94-2.06-.94 2.06-2.06.94zm-11 1L8.5 8.5l.94-2.06 2.06-.94-2.06-.94L8.5 2.5l-.94 2.06-2.06.94zm10 10l.94 2.06.94-2.06 2.06-.94-2.06-.94-.94-2.06-.94 2.06-2.06.94z\"/><path d=\"M17.41 7.96l-1.37-1.37c-.4-.4-.92-.59-1.43-.59-.52 0-1.04.2-1.43.59L10.3 9.45l-7.72 7.72c-.78.78-.78 2.05 0 2.83L4 21.41c.39.39.9.59 1.41.59.51 0 1.02-.2 1.41-.59l7.78-7.78 2.81-2.81c.8-.78.8-2.07 0-2.86zM5.41 20L4 18.59l7.72-7.72 1.47 1.35L5.41 20z\"/>\n",
              "  </svg>\n",
              "      </button>\n",
              "      \n",
              "  <style>\n",
              "    .colab-df-container {\n",
              "      display:flex;\n",
              "      flex-wrap:wrap;\n",
              "      gap: 12px;\n",
              "    }\n",
              "\n",
              "    .colab-df-convert {\n",
              "      background-color: #E8F0FE;\n",
              "      border: none;\n",
              "      border-radius: 50%;\n",
              "      cursor: pointer;\n",
              "      display: none;\n",
              "      fill: #1967D2;\n",
              "      height: 32px;\n",
              "      padding: 0 0 0 0;\n",
              "      width: 32px;\n",
              "    }\n",
              "\n",
              "    .colab-df-convert:hover {\n",
              "      background-color: #E2EBFA;\n",
              "      box-shadow: 0px 1px 2px rgba(60, 64, 67, 0.3), 0px 1px 3px 1px rgba(60, 64, 67, 0.15);\n",
              "      fill: #174EA6;\n",
              "    }\n",
              "\n",
              "    [theme=dark] .colab-df-convert {\n",
              "      background-color: #3B4455;\n",
              "      fill: #D2E3FC;\n",
              "    }\n",
              "\n",
              "    [theme=dark] .colab-df-convert:hover {\n",
              "      background-color: #434B5C;\n",
              "      box-shadow: 0px 1px 3px 1px rgba(0, 0, 0, 0.15);\n",
              "      filter: drop-shadow(0px 1px 2px rgba(0, 0, 0, 0.3));\n",
              "      fill: #FFFFFF;\n",
              "    }\n",
              "  </style>\n",
              "\n",
              "      <script>\n",
              "        const buttonEl =\n",
              "          document.querySelector('#df-32a18adc-4344-4c61-a14d-17bba43c9636 button.colab-df-convert');\n",
              "        buttonEl.style.display =\n",
              "          google.colab.kernel.accessAllowed ? 'block' : 'none';\n",
              "\n",
              "        async function convertToInteractive(key) {\n",
              "          const element = document.querySelector('#df-32a18adc-4344-4c61-a14d-17bba43c9636');\n",
              "          const dataTable =\n",
              "            await google.colab.kernel.invokeFunction('convertToInteractive',\n",
              "                                                     [key], {});\n",
              "          if (!dataTable) return;\n",
              "\n",
              "          const docLinkHtml = 'Like what you see? Visit the ' +\n",
              "            '<a target=\"_blank\" href=https://colab.research.google.com/notebooks/data_table.ipynb>data table notebook</a>'\n",
              "            + ' to learn more about interactive tables.';\n",
              "          element.innerHTML = '';\n",
              "          dataTable['output_type'] = 'display_data';\n",
              "          await google.colab.output.renderOutput(dataTable, element);\n",
              "          const docLink = document.createElement('div');\n",
              "          docLink.innerHTML = docLinkHtml;\n",
              "          element.appendChild(docLink);\n",
              "        }\n",
              "      </script>\n",
              "    </div>\n",
              "  </div>\n",
              "  "
            ]
          },
          "metadata": {},
          "execution_count": 33
        }
      ]
    },
    {
      "cell_type": "code",
      "source": [
        "from sklearn.model_selection import train_test_split\n",
        "from sklearn.ensemble import RandomForestClassifier\n",
        "from sklearn import svm\n",
        "from sklearn.metrics import accuracy_score, precision_score, recall_score, f1_score\n"
      ],
      "metadata": {
        "id": "L45Pp82PkO7U"
      },
      "execution_count": null,
      "outputs": []
    },
    {
      "cell_type": "code",
      "source": [
        "# 20% testing set, 80% training set\n",
        "X_train, X_test, y_train, y_test = train_test_split(X, y, test_size=0.2, random_state=42)"
      ],
      "metadata": {
        "id": "0Ak7-nZxkW2p"
      },
      "execution_count": null,
      "outputs": []
    },
    {
      "cell_type": "code",
      "source": [
        "print('Shape of Data (20%)')\n",
        "print(\"X_train shape : \", X_train.shape)\n",
        "print(\"y_train shape : \", y_train.shape)\n",
        "print(\"X_test shape : \", X_test.shape)\n",
        "print(\"y_test shape : \", y_test.shape)"
      ],
      "metadata": {
        "colab": {
          "base_uri": "https://localhost:8080/"
        },
        "id": "sVPw6v6NRxAM",
        "outputId": "03367b78-b435-458f-e06d-c9358a75b547"
      },
      "execution_count": null,
      "outputs": [
        {
          "output_type": "stream",
          "name": "stdout",
          "text": [
            "Shape of Data (20%)\n",
            "X_train shape :  (2620, 9)\n",
            "y_train shape :  (2620, 1)\n",
            "X_test shape :  (656, 9)\n",
            "y_test shape :  (656, 1)\n"
          ]
        }
      ]
    },
    {
      "cell_type": "code",
      "source": [
        "print('Random Forest 20%')\n",
        "rf = RandomForestClassifier()\n",
        "rf.fit(X_train, y_train)\n",
        "rf_train = rf.predict(X_train)\n",
        "rf_test = rf.predict(X_test)\n",
        "\n",
        "# Training Metrics\n",
        "rf_train_acc_1 = accuracy_score(y_train, rf_train)\n",
        "rf_train_f1_1 = f1_score(y_train, rf_train, average = 'weighted')\n",
        "rf_train_pre_1 = precision_score(y_train, rf_train, average = 'weighted')\n",
        "rf_train_recall_1 = recall_score(y_train, rf_train, average = 'weighted')\n",
        "\n",
        "# Testing Metrics\n",
        "rf_test_acc_1 = accuracy_score(y_test, rf_test)\n",
        "rf_test_f1_1 = f1_score(y_test, rf_test, average = 'weighted')\n",
        "rf_test_precision_1 = precision_score(y_test, rf_test, average = 'weighted')\n",
        "rf_test_recall_1 = recall_score(y_test, rf_test, average = 'weighted')\n",
        "\n",
        "\n",
        "print('Training Accuracy Score :', rf_train_acc_1)\n",
        "print('Training F1 Score :', rf_train_f1_1)\n",
        "print('Training Precision Score :',rf_train_pre_1)\n",
        "print('Training Recall Score :', rf_train_recall_1)\n",
        "\n",
        "print('Testing Accuracy Score :', rf_test_acc_1)\n",
        "print('Testing F1 Score :', rf_test_f1_1)\n",
        "print('Testing Precision Score :', rf_test_precision_1)\n",
        "print('Testing Recall Score :', rf_test_recall_1)"
      ],
      "metadata": {
        "id": "QIcS-DRbkdHC",
        "colab": {
          "base_uri": "https://localhost:8080/"
        },
        "outputId": "4d505161-c314-4be3-920f-86f15a6bf439"
      },
      "execution_count": null,
      "outputs": [
        {
          "output_type": "stream",
          "name": "stdout",
          "text": [
            "Random Forest 20%\n"
          ]
        },
        {
          "output_type": "stream",
          "name": "stderr",
          "text": [
            "<ipython-input-37-a63a2d60fac5>:3: DataConversionWarning: A column-vector y was passed when a 1d array was expected. Please change the shape of y to (n_samples,), for example using ravel().\n",
            "  rf.fit(X_train, y_train)\n"
          ]
        },
        {
          "output_type": "stream",
          "name": "stdout",
          "text": [
            "Training Accuracy Score : 1.0\n",
            "Training F1 Score : 1.0\n",
            "Training Precision Score : 1.0\n",
            "Training Recall Score : 1.0\n",
            "Testing Accuracy Score : 0.7759146341463414\n",
            "Testing F1 Score : 0.7668897705897816\n",
            "Testing Precision Score : 0.7752380736097864\n",
            "Testing Recall Score : 0.7759146341463414\n"
          ]
        }
      ]
    },
    {
      "cell_type": "code",
      "source": [
        "print('SVM 20%')\n",
        "from sklearn.datasets import make_classification\n",
        "\n",
        "SVM = svm.SVC()\n",
        "\n",
        "SVM.fit(X_train, y_train)\n",
        "SVM_train = SVM.predict(X_train)\n",
        "SVM_test = SVM.predict(X_test)\n",
        "\n",
        "# Training Metrics\n",
        "svm_train_acc_1 = accuracy_score(y_train, SVM_train)\n",
        "svm_train_f1_1 = f1_score(y_train, SVM_train, average = 'weighted')\n",
        "svm_train_pre_1 = precision_score(y_train, SVM_train, average = 'weighted')\n",
        "svm_train_recall_1 = recall_score(y_train, SVM_train, average = 'weighted')\n",
        "\n",
        "# Testing Metrics\n",
        "svm_test_acc_1 = accuracy_score(y_test, SVM_test)\n",
        "svm_test_f1_1 = f1_score(y_test, SVM_test, average = 'weighted')\n",
        "svm_test_precision_1 = precision_score(y_test, SVM_test, average = 'weighted')\n",
        "svm_test_recall_1 = recall_score(y_test, SVM_test, average = 'weighted')\n",
        "\n",
        "\n",
        "print('Training Accuracy Score :', svm_train_acc_1)\n",
        "print('Training F1 Score :', svm_train_f1_1)\n",
        "print('Training Precision Score :',svm_train_pre_1)\n",
        "print('Training Recall Score :', svm_train_recall_1)\n",
        "\n",
        "print('Testing Accuracy Score :', svm_test_acc_1)\n",
        "print('Testing F1 Score :', svm_test_f1_1)\n",
        "print('Testing Precision Score :', svm_test_precision_1)\n",
        "print('Testing Recall Score :', svm_test_recall_1)"
      ],
      "metadata": {
        "id": "4AC2DZ_zkj7Z",
        "colab": {
          "base_uri": "https://localhost:8080/"
        },
        "outputId": "f03d8734-d9c5-4543-85a5-2ad54d028eac"
      },
      "execution_count": null,
      "outputs": [
        {
          "output_type": "stream",
          "name": "stdout",
          "text": [
            "SVM 20%\n"
          ]
        },
        {
          "output_type": "stream",
          "name": "stderr",
          "text": [
            "/usr/local/lib/python3.10/dist-packages/sklearn/utils/validation.py:1143: DataConversionWarning: A column-vector y was passed when a 1d array was expected. Please change the shape of y to (n_samples, ), for example using ravel().\n",
            "  y = column_or_1d(y, warn=True)\n"
          ]
        },
        {
          "output_type": "stream",
          "name": "stdout",
          "text": [
            "Training Accuracy Score : 0.7076335877862595\n",
            "Training F1 Score : 0.665009199508099\n",
            "Training Precision Score : 0.7499678227056189\n",
            "Training Recall Score : 0.7076335877862595\n",
            "Testing Accuracy Score : 0.6996951219512195\n",
            "Testing F1 Score : 0.6535772050981697\n",
            "Testing Precision Score : 0.7172863430970675\n",
            "Testing Recall Score : 0.6996951219512195\n"
          ]
        }
      ]
    },
    {
      "cell_type": "code",
      "source": [
        "X_train, X_test, y_train, y_test = train_test_split(X, y, test_size=0.3, random_state=42)"
      ],
      "metadata": {
        "id": "6kBd5bZ8kool"
      },
      "execution_count": null,
      "outputs": []
    },
    {
      "cell_type": "code",
      "source": [
        "print('Shape of Data (30%)')\n",
        "print(\"X_train shape : \", X_train.shape)\n",
        "print(\"y_train shape : \", y_train.shape)\n",
        "print(\"X_test shape : \", X_test.shape)\n",
        "print(\"y_test shape : \", y_test.shape)"
      ],
      "metadata": {
        "id": "-coLLV6PkvAB",
        "colab": {
          "base_uri": "https://localhost:8080/"
        },
        "outputId": "7b21453d-9a54-4295-ef2e-aff1c9144faf"
      },
      "execution_count": null,
      "outputs": [
        {
          "output_type": "stream",
          "name": "stdout",
          "text": [
            "Shape of Data (30%)\n",
            "X_train shape :  (2293, 9)\n",
            "y_train shape :  (2293, 1)\n",
            "X_test shape :  (983, 9)\n",
            "y_test shape :  (983, 1)\n"
          ]
        }
      ]
    },
    {
      "cell_type": "code",
      "source": [
        "print('Random Forest 30%')\n",
        "rf = RandomForestClassifier()\n",
        "rf.fit(X_train, y_train)\n",
        "rf_train = rf.predict(X_train)\n",
        "rf_test = rf.predict(X_test)\n",
        "\n",
        "# Training Metrics\n",
        "rf_train_acc_2 = accuracy_score(y_train, rf_train)\n",
        "rf_train_f1_2 = f1_score(y_train, rf_train, average = 'weighted')\n",
        "rf_train_pre_2 = precision_score(y_train, rf_train, average = 'weighted')\n",
        "rf_train_recall_2 = recall_score(y_train, rf_train, average = 'weighted')\n",
        "\n",
        "# Testing Metrics\n",
        "rf_test_acc_2 = accuracy_score(y_test, rf_test)\n",
        "rf_test_f1_2 = f1_score(y_test, rf_test, average = 'weighted')\n",
        "rf_test_precision_2 = precision_score(y_test, rf_test, average = 'weighted')\n",
        "rf_test_recall_2 = recall_score(y_test, rf_test, average = 'weighted')\n",
        "\n",
        "\n",
        "print('Training Accuracy Score :', rf_train_acc_2)\n",
        "print('Training F1 Score :', rf_train_f1_2)\n",
        "print('Training Precision Score :',rf_train_pre_2)\n",
        "print('Training Recall Score :', rf_train_recall_2)\n",
        "\n",
        "print('Testing Accuracy Score :', rf_test_acc_2)\n",
        "print('Testing F1 Score :', rf_test_f1_2)\n",
        "print('Testing Precision Score :', rf_test_precision_2)\n",
        "print('Testing Recall Score :', rf_test_recall_2)"
      ],
      "metadata": {
        "id": "EHRjTM3dkwG0",
        "colab": {
          "base_uri": "https://localhost:8080/"
        },
        "outputId": "19ce0e8f-abdd-475f-a944-7a328a1b749b"
      },
      "execution_count": null,
      "outputs": [
        {
          "output_type": "stream",
          "name": "stdout",
          "text": [
            "Random Forest 30%\n"
          ]
        },
        {
          "output_type": "stream",
          "name": "stderr",
          "text": [
            "<ipython-input-41-1399865bec2c>:3: DataConversionWarning: A column-vector y was passed when a 1d array was expected. Please change the shape of y to (n_samples,), for example using ravel().\n",
            "  rf.fit(X_train, y_train)\n"
          ]
        },
        {
          "output_type": "stream",
          "name": "stdout",
          "text": [
            "Training Accuracy Score : 1.0\n",
            "Training F1 Score : 1.0\n",
            "Training Precision Score : 1.0\n",
            "Training Recall Score : 1.0\n",
            "Testing Accuracy Score : 0.7711088504577823\n",
            "Testing F1 Score : 0.7617094883759848\n",
            "Testing Precision Score : 0.7701321371098518\n",
            "Testing Recall Score : 0.7711088504577823\n"
          ]
        }
      ]
    },
    {
      "cell_type": "code",
      "source": [
        "print('SVM 30%')\n",
        "\n",
        "SVM = svm.SVC()\n",
        "SVM.fit(X_train, y_train)\n",
        "SVM_train = SVM.predict(X_train)\n",
        "SVM_test = SVM.predict(X_test)\n",
        "\n",
        "# Training Metrics\n",
        "svm_train_acc_2 = accuracy_score(y_train, SVM_train)\n",
        "svm_train_f1_2 = f1_score(y_train, SVM_train, average = 'weighted')\n",
        "svm_train_pre_2 = precision_score(y_train, SVM_train, average = 'weighted')\n",
        "svm_train_recall_2 = recall_score(y_train, SVM_train, average = 'weighted')\n",
        "\n",
        "# Testing Metrics\n",
        "svm_test_acc_2 = accuracy_score(y_test, SVM_test)\n",
        "svm_test_f1_2 = f1_score(y_test, SVM_test, average = 'weighted')\n",
        "svm_test_precision_2 = precision_score(y_test, SVM_test, average = 'weighted')\n",
        "svm_test_recall_2 = recall_score(y_test, SVM_test, average = 'weighted')\n",
        "\n",
        "\n",
        "print('Training Accuracy Score :', svm_train_acc_2)\n",
        "print('Training F1 Score :', svm_train_f1_2)\n",
        "print('Training Precision Score :',svm_train_pre_2)\n",
        "print('Training Recall Score :', svm_train_recall_2)\n",
        "\n",
        "print('Testing Accuracy Score :', svm_test_acc_2)\n",
        "print('Testing F1 Score :', svm_test_f1_2)\n",
        "print('Testing Precision Score :', svm_test_precision_2)\n",
        "print('Testing Recall Score :', svm_test_recall_2)"
      ],
      "metadata": {
        "id": "OkCyP84vky7Y",
        "colab": {
          "base_uri": "https://localhost:8080/"
        },
        "outputId": "31db3217-1ac2-40af-c1d2-a02e3a7e8ea4"
      },
      "execution_count": null,
      "outputs": [
        {
          "output_type": "stream",
          "name": "stdout",
          "text": [
            "SVM 30%\n"
          ]
        },
        {
          "output_type": "stream",
          "name": "stderr",
          "text": [
            "/usr/local/lib/python3.10/dist-packages/sklearn/utils/validation.py:1143: DataConversionWarning: A column-vector y was passed when a 1d array was expected. Please change the shape of y to (n_samples, ), for example using ravel().\n",
            "  y = column_or_1d(y, warn=True)\n"
          ]
        },
        {
          "output_type": "stream",
          "name": "stdout",
          "text": [
            "Training Accuracy Score : 0.7003924989097252\n",
            "Training F1 Score : 0.654418947708228\n",
            "Training Precision Score : 0.7469136371396868\n",
            "Training Recall Score : 0.7003924989097252\n",
            "Testing Accuracy Score : 0.6846388606307223\n",
            "Testing F1 Score : 0.630230350075371\n",
            "Testing Precision Score : 0.6997336816604327\n",
            "Testing Recall Score : 0.6846388606307223\n"
          ]
        }
      ]
    },
    {
      "cell_type": "code",
      "source": [
        "import pandas as pd\n",
        "from tabulate import tabulate\n",
        "\n",
        "# Define the categories and features\n",
        "categories = ['Accuracy_Score', 'F1_Score', 'Precision_Score', 'Recall_Score']\n",
        "features = ['Random Forest (20%)', 'SVM (20%)', 'Random Forst (30%)', 'SVM (30%)']\n",
        "\n",
        "# Create an empty DataFrame\n",
        "data = pd.DataFrame(index=categories, columns=features)\n",
        "\n",
        "# Fill the DataFrame with values\n",
        "data.loc['Accuracy_Score'] = [rf_test_acc_1, svm_test_acc_2, rf_test_acc_2, svm_test_acc_2]\n",
        "data.loc['F1_Score'] = [rf_test_f1_1, svm_test_f1_1, rf_test_f1_2, svm_test_f1_2]\n",
        "data.loc['Precision_Score'] = [rf_test_precision_1, svm_test_precision_1, rf_test_precision_2, svm_test_precision_2]\n",
        "data.loc['Recall_Score'] = [rf_test_recall_1, svm_test_recall_1, rf_test_recall_2, svm_test_recall_2]\n",
        "\n",
        "# Convert the DataFrame to a tabulated format\n",
        "table = tabulate(data, headers='keys', tablefmt='psql')\n",
        "\n",
        "# Display the tabulated table\n",
        "print(table)\n"
      ],
      "metadata": {
        "id": "7JSQ2x6tk1Z2",
        "colab": {
          "base_uri": "https://localhost:8080/"
        },
        "outputId": "5c469490-92c5-47e7-e1ef-2cf5d3c4512e"
      },
      "execution_count": null,
      "outputs": [
        {
          "output_type": "stream",
          "name": "stdout",
          "text": [
            "+-----------------+-----------------------+-------------+----------------------+-------------+\n",
            "|                 |   Random Forest (20%) |   SVM (20%) |   Random Forst (30%) |   SVM (30%) |\n",
            "|-----------------+-----------------------+-------------+----------------------+-------------|\n",
            "| Accuracy_Score  |              0.775915 |    0.684639 |             0.771109 |    0.684639 |\n",
            "| F1_Score        |              0.76689  |    0.653577 |             0.761709 |    0.63023  |\n",
            "| Precision_Score |              0.775238 |    0.717286 |             0.770132 |    0.699734 |\n",
            "| Recall_Score    |              0.775915 |    0.699695 |             0.771109 |    0.684639 |\n",
            "+-----------------+-----------------------+-------------+----------------------+-------------+\n"
          ]
        }
      ]
    },
    {
      "cell_type": "code",
      "source": [],
      "metadata": {
        "id": "KIS0eilKQ0hy"
      },
      "execution_count": null,
      "outputs": []
    }
  ]
}